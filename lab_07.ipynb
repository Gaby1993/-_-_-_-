{
 "cells": [
  {
   "cell_type": "code",
   "execution_count": 1,
   "metadata": {},
   "outputs": [],
   "source": [
    "import numpy as np\n",
    "import matplotlib.pyplot as plt\n",
    "    "
   ]
  },
  {
   "cell_type": "code",
   "execution_count": null,
   "metadata": {},
   "outputs": [],
   "source": [
    "def K(G1,alpha):\n",
    "    return ((2/G1)-(1-np.cos(alpha/2)))/(1+np.cos(alpha/2))\n",
    "def G2(G1,k):\n",
    "    return G1*k\n",
    "    "
   ]
  },
  {
   "cell_type": "code",
   "execution_count": null,
   "metadata": {},
   "outputs": [],
   "source": [
    "#Коэффициенты усиления основного лепестка антенны.\n",
    "G1_64x1 = 57.51\n",
    "G1_32x1 = 28.76\n",
    "#Угол направленности основного лепестка антенны.\n",
    "alpha_64x1 = 1.585*(np.pi/180)\n",
    "alpha_32x1 = 3.171*(np.pi/180)\n"
   ]
  },
  {
   "cell_type": "code",
   "execution_count": 2,
   "metadata": {},
   "outputs": [
    {
     "ename": "NameError",
     "evalue": "name 'K' is not defined",
     "output_type": "error",
     "traceback": [
      "\u001b[1;31m---------------------------------------------------------------------------\u001b[0m",
      "\u001b[1;31mNameError\u001b[0m                                 Traceback (most recent call last)",
      "Cell \u001b[1;32mIn [2], line 2\u001b[0m\n\u001b[0;32m      1\u001b[0m \u001b[39m#k для решетки 64x1\u001b[39;00m\n\u001b[1;32m----> 2\u001b[0m k_64x1\u001b[39m=\u001b[39mK(G1_64x1, alpha_64x1)\n\u001b[0;32m      3\u001b[0m k_64x1\n",
      "\u001b[1;31mNameError\u001b[0m: name 'K' is not defined"
     ]
    }
   ],
   "source": [
    "#k для решетки 64x1\n",
    "k_64x1=K(G1_64x1, alpha_64x1)\n",
    "k_64x1\n"
   ]
  },
  {
   "cell_type": "code",
   "execution_count": null,
   "metadata": {},
   "outputs": [],
   "source": [
    "#k для решетки 32x1\n",
    "k_32x1=K(G1_32x1, alpha_32x1)\n",
    "k_32x1\n"
   ]
  },
  {
   "cell_type": "code",
   "execution_count": null,
   "metadata": {},
   "outputs": [],
   "source": [
    "#G2 для для решетки 64x1\n",
    "G2_64x1= G2(G1_64x1,k_64x1)\n",
    "G2_64x1\n",
    "    "
   ]
  },
  {
   "cell_type": "code",
   "execution_count": null,
   "metadata": {},
   "outputs": [],
   "source": [
    "#G2 для для решетки 32x1\n",
    "G2_32x1= G2(G1_32x1,k_32x1)\n",
    "G2_32x1\n"
   ]
  },
  {
   "cell_type": "code",
   "execution_count": 3,
   "metadata": {},
   "outputs": [],
   "source": [
    "h_A = 10 #высота базовой станции\n",
    "h_U = 1.4 #высота приемника\n",
    "h_B = 1.7 #высота человека (блокатора)\n",
    "radius_block = 0.5 #радиус блокатора\n",
    "distance = 3 #дистанция между передатчиком и приемником\n"
   ]
  },
  {
   "cell_type": "code",
   "execution_count": null,
   "metadata": {},
   "outputs": [],
   "source": [
    "lambda_B = np.linspace(0.1,5,100) #Интенсивность блокаторов \n"
   ]
  },
  {
   "cell_type": "code",
   "execution_count": 4,
   "metadata": {},
   "outputs": [],
   "source": [
    "#вероятность для двухмерного сценария\n",
    "def probability_2D(distance,lambda_B,radius_block):\n",
    "    return 1-np.exp(-lambda_B*2*radius_block*distance)\n",
    "     "
   ]
  },
  {
   "cell_type": "code",
   "execution_count": null,
   "metadata": {},
   "outputs": [],
   "source": [
    " #Вычислаем вероятность в зависимости от роста интенсивности поступающий блокатор\n",
    "probability_2D_array=[]\n",
    "for i in lambda_B:\n",
    "    probability_2D_array.append(probability_2D(distance,i,radius_block))\n",
    "    "
   ]
  },
  {
   "cell_type": "code",
   "execution_count": 5,
   "metadata": {},
   "outputs": [
    {
     "ename": "NameError",
     "evalue": "name 'probability_2D_array' is not defined",
     "output_type": "error",
     "traceback": [
      "\u001b[1;31m---------------------------------------------------------------------------\u001b[0m",
      "\u001b[1;31mNameError\u001b[0m                                 Traceback (most recent call last)",
      "Cell \u001b[1;32mIn [5], line 1\u001b[0m\n\u001b[1;32m----> 1\u001b[0m probability_2D_array\n",
      "\u001b[1;31mNameError\u001b[0m: name 'probability_2D_array' is not defined"
     ]
    }
   ],
   "source": [
    "probability_2D_array\n"
   ]
  },
  {
   "cell_type": "code",
   "execution_count": null,
   "metadata": {},
   "outputs": [],
   "source": [
    "#вероятность для трехмерного сценария\n",
    "def probability_3D(distance,lambda_B,radius_block,h_A,h_U,h_B):\n",
    "    return 1-np.exp(-lambda_B*2*radius_block*((distance*((h_B-h_U)/(h_A-h_U)))+radius_block))\n"
   ]
  },
  {
   "cell_type": "code",
   "execution_count": 6,
   "metadata": {},
   "outputs": [
    {
     "ename": "SyntaxError",
     "evalue": "invalid syntax (2308990549.py, line 4)",
     "output_type": "error",
     "traceback": [
      "\u001b[1;36m  Cell \u001b[1;32mIn [6], line 4\u001b[1;36m\u001b[0m\n\u001b[1;33m    probability_3D_array, .append(probability_3D(distance,i,radius_block,h_A,h_U,h_B))\u001b[0m\n\u001b[1;37m                          ^\u001b[0m\n\u001b[1;31mSyntaxError\u001b[0m\u001b[1;31m:\u001b[0m invalid syntax\n"
     ]
    }
   ],
   "source": [
    "#Вычислаем вероятность в зависимости от роста интенсивности поступающий \n",
    "блокатор, probability_3D_array,=[] \n",
    "for i in lambda_B:\n",
    "    probability_3D_array, .append(probability_3D(distance,i,radius_block,h_A,h_U,h_B)) "
   ]
  },
  {
   "cell_type": "code",
   "execution_count": 7,
   "metadata": {},
   "outputs": [
    {
     "ename": "NameError",
     "evalue": "name 'probability_3D_array' is not defined",
     "output_type": "error",
     "traceback": [
      "\u001b[1;31m---------------------------------------------------------------------------\u001b[0m",
      "\u001b[1;31mNameError\u001b[0m                                 Traceback (most recent call last)",
      "Cell \u001b[1;32mIn [7], line 1\u001b[0m\n\u001b[1;32m----> 1\u001b[0m probability_3D_array\n",
      "\u001b[1;31mNameError\u001b[0m: name 'probability_3D_array' is not defined"
     ]
    }
   ],
   "source": [
    "probability_3D_array "
   ]
  },
  {
   "cell_type": "code",
   "execution_count": null,
   "metadata": {},
   "outputs": [],
   "source": []
  }
 ],
 "metadata": {
  "kernelspec": {
   "display_name": "Python 3",
   "language": "python",
   "name": "python3"
  },
  "language_info": {
   "codemirror_mode": {
    "name": "ipython",
    "version": 3
   },
   "file_extension": ".py",
   "mimetype": "text/x-python",
   "name": "python",
   "nbconvert_exporter": "python",
   "pygments_lexer": "ipython3",
   "version": "3.10.7"
  },
  "orig_nbformat": 4,
  "vscode": {
   "interpreter": {
    "hash": "ed5a8faacd9ff79a6d9ec1bf4a08d4060912d55b1678a670d7adeb665b5f012f"
   }
  }
 },
 "nbformat": 4,
 "nbformat_minor": 2
}
